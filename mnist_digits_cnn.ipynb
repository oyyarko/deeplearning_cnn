{
  "nbformat": 4,
  "nbformat_minor": 0,
  "metadata": {
    "colab": {
      "name": "mnist_cnn.ipynb",
      "provenance": [],
      "collapsed_sections": [],
      "authorship_tag": "ABX9TyPu1papJKeNZcdkV/pdmypj",
      "include_colab_link": true
    },
    "kernelspec": {
      "name": "python3",
      "display_name": "Python 3"
    },
    "accelerator": "GPU"
  },
  "cells": [
    {
      "cell_type": "markdown",
      "metadata": {
        "id": "view-in-github",
        "colab_type": "text"
      },
      "source": [
        "<a href=\"https://colab.research.google.com/github/oyyarko/deeplearning_cnn/blob/master/mnist_digits_cnn.ipynb\" target=\"_parent\"><img src=\"https://colab.research.google.com/assets/colab-badge.svg\" alt=\"Open In Colab\"/></a>"
      ]
    },
    {
      "cell_type": "markdown",
      "metadata": {
        "id": "nuv32a8Xr3GK",
        "colab_type": "text"
      },
      "source": [
        "From https://machinelearningmastery.com/how-to-develop-a-convolutional-neural-network-from-scratch-for-mnist-handwritten-digit-classification/"
      ]
    },
    {
      "cell_type": "code",
      "metadata": {
        "id": "ZODZrMHRB1_e",
        "colab_type": "code",
        "outputId": "f773616b-1e52-4f02-a9a2-6df042113ec3",
        "colab": {
          "base_uri": "https://localhost:8080/",
          "height": 81
        }
      },
      "source": [
        "#import all libraries\n",
        "from numpy import mean, std\n",
        "import matplotlib.pyplot as plt\n",
        "from sklearn.model_selection import KFold\n",
        "from tensorflow.python.keras.models import Sequential\n",
        "from tensorflow.python.keras.layers import Dense, Conv2D, Flatten, MaxPooling2D\n",
        "from tensorflow.python.keras.utils import to_categorical\n",
        "from tensorflow.python.keras.datasets import mnist\n",
        "from tensorflow.python.keras.optimizers import SGD\n",
        "%matplotlib inline"
      ],
      "execution_count": 0,
      "outputs": [
        {
          "output_type": "display_data",
          "data": {
            "text/html": [
              "<p style=\"color: red;\">\n",
              "The default version of TensorFlow in Colab will soon switch to TensorFlow 2.x.<br>\n",
              "We recommend you <a href=\"https://www.tensorflow.org/guide/migrate\" target=\"_blank\">upgrade</a> now \n",
              "or ensure your notebook will continue to use TensorFlow 1.x via the <code>%tensorflow_version 1.x</code> magic:\n",
              "<a href=\"https://colab.research.google.com/notebooks/tensorflow_version.ipynb\" target=\"_blank\">more info</a>.</p>\n"
            ],
            "text/plain": [
              "<IPython.core.display.HTML object>"
            ]
          },
          "metadata": {
            "tags": []
          }
        }
      ]
    },
    {
      "cell_type": "code",
      "metadata": {
        "id": "pgSfJ0rQEvij",
        "colab_type": "code",
        "colab": {}
      },
      "source": [
        "def load_dataset():\n",
        "\t# load dataset\n",
        "\t(trainX, trainY), (testX, testY) = mnist.load_data()\n",
        "\t# reshape dataset to have a single channel\n",
        "\ttrainX = trainX.reshape((trainX.shape[0], 28, 28, 1))\n",
        "\ttestX = testX.reshape((testX.shape[0], 28, 28, 1))\n",
        "\t# one hot encode target values\n",
        "\ttrainY = to_categorical(trainY)\n",
        "\ttestY = to_categorical(testY)\n",
        "\treturn trainX, trainY, testX, testY"
      ],
      "execution_count": 0,
      "outputs": []
    },
    {
      "cell_type": "code",
      "metadata": {
        "id": "K0clo9IeYf8n",
        "colab_type": "code",
        "colab": {}
      },
      "source": [
        "def prep_pixels(train, test):\n",
        "\t# convert from integers to floats\n",
        "\ttrain_norm = train.astype('float32')\n",
        "\ttest_norm = test.astype('float32')\n",
        "\t# normalize to range 0-1\n",
        "\ttrain_norm = train_norm / 255.0\n",
        "\ttest_norm = test_norm / 255.0\n",
        "\t# return normalized images\n",
        "\treturn train_norm, test_norm"
      ],
      "execution_count": 0,
      "outputs": []
    },
    {
      "cell_type": "code",
      "metadata": {
        "id": "bC0KwwSnZNBb",
        "colab_type": "code",
        "colab": {}
      },
      "source": [
        "def define_model():\n",
        "\tmodel = Sequential()\n",
        "\tmodel.add(Conv2D(32, (3, 3), activation='relu', kernel_initializer='he_uniform', input_shape=(28, 28, 1)))\n",
        "\tmodel.add(MaxPooling2D((2, 2)))\n",
        "\tmodel.add(Conv2D(64, (3, 3), activation='relu', kernel_initializer='he_uniform'))\n",
        "\tmodel.add(Conv2D(64, (3, 3), activation='relu', kernel_initializer='he_uniform'))\n",
        "\tmodel.add(MaxPooling2D((2, 2)))\n",
        "\tmodel.add(Flatten())\n",
        "\tmodel.add(Dense(100, activation='relu', kernel_initializer='he_uniform'))\n",
        "\tmodel.add(Dense(10, activation='softmax'))\n",
        "\t# compile model\n",
        "\topt = SGD(lr=0.01, momentum=0.9)\n",
        "\tmodel.compile(optimizer=opt, loss='categorical_crossentropy', metrics=['accuracy'])\n",
        "\treturn model"
      ],
      "execution_count": 0,
      "outputs": []
    },
    {
      "cell_type": "code",
      "metadata": {
        "id": "9GaIHlsXcxBi",
        "colab_type": "code",
        "colab": {}
      },
      "source": [
        "def evaluate_model(dataX, dataY, n_folds=5):\n",
        "\tscores, histories = list(), list()\n",
        "\t# prepare cross validation\n",
        "\tkfold = KFold(n_folds, shuffle=True, random_state=1)\n",
        "\t# enumerate splits\n",
        "\tfor train_ix, test_ix in kfold.split(dataX):\n",
        "\t\t# define model\n",
        "\t\tmodel = define_model()\n",
        "\t\t# select rows for train and test\n",
        "\t\ttrainX, trainY, testX, testY = dataX[train_ix], dataY[train_ix], dataX[test_ix], dataY[test_ix]\n",
        "\t\t# fit model\n",
        "\t\thistory = model.fit(trainX, trainY, epochs=10, batch_size=32, validation_data=(testX, testY), verbose=0)\n",
        "\t\t# evaluate model\n",
        "\t\t_, acc = model.evaluate(testX, testY, verbose=0)\n",
        "\t\tprint('> %.3f' % (acc * 100.0))\n",
        "\t\t# stores scores\n",
        "\t\tscores.append(acc)\n",
        "\t\thistories.append(history)\n",
        "\treturn scores, histories\n",
        " "
      ],
      "execution_count": 0,
      "outputs": []
    },
    {
      "cell_type": "code",
      "metadata": {
        "id": "GRZX7hB-eqAZ",
        "colab_type": "code",
        "colab": {}
      },
      "source": [
        "def summarize_diagnostics(histories):\n",
        "    for i in range(len(histories)):\n",
        "        #plotting loss\n",
        "        plt.subplot(2, 1, 1)\n",
        "        plt.title('Cross entropy loss')\n",
        "        plt.plot(histories[i].history['loss'], color='blue', label='train')\n",
        "        plt.plot(histories[i].history['val_loss'], color='orange', label='test')\n",
        "        #plotting accuracy\n",
        "        plt.subplot(2, 1, 2)\n",
        "        plt.title('Cross entropy Accuracy')\n",
        "        plt.plot(histories[i].history['acc'], color='blue', label='train')\n",
        "        plt.plot(histories[i].history['val_acc'], color='orange', label='test')\n",
        "    plt.show()"
      ],
      "execution_count": 0,
      "outputs": []
    },
    {
      "cell_type": "code",
      "metadata": {
        "id": "16O8Ll3afZys",
        "colab_type": "code",
        "colab": {}
      },
      "source": [
        "def summarize_performance(scores):\n",
        "    print('Accuracy: mean=%.3f std=%.3f n=%d' %(mean(scores)*100, std(scores)*100, len(scores)))\n",
        "    plt.boxplot(scores)\n",
        "    plt.show()"
      ],
      "execution_count": 0,
      "outputs": []
    },
    {
      "cell_type": "code",
      "metadata": {
        "id": "WK9cOD41f-Aa",
        "colab_type": "code",
        "colab": {}
      },
      "source": [
        "def run_test_harness():\n",
        "    x_train, y_train, x_test, y_test = load_dataset()\n",
        "    x_train, x_test = prep_pixels(x_train, x_test)\n",
        "    scores, histories = evaluate_model(x_train, y_train)\n",
        "    summarize_diagnostics(histories)\n",
        "    summarize_performance(scores)"
      ],
      "execution_count": 0,
      "outputs": []
    },
    {
      "cell_type": "code",
      "metadata": {
        "id": "msrQBa9kghxi",
        "colab_type": "code",
        "outputId": "3fe5dcb3-048f-4003-d6a8-8d5ed6ac731a",
        "colab": {
          "base_uri": "https://localhost:8080/",
          "height": 723
        }
      },
      "source": [
        "run_test_harness()"
      ],
      "execution_count": 31,
      "outputs": [
        {
          "output_type": "stream",
          "text": [
            "> 99.008\n",
            "> 98.800\n",
            "> 98.975\n",
            "> 99.117\n",
            "> 99.000\n"
          ],
          "name": "stdout"
        },
        {
          "output_type": "stream",
          "text": [
            "/usr/local/lib/python3.6/dist-packages/ipykernel_launcher.py:4: MatplotlibDeprecationWarning: Adding an axes using the same arguments as a previous axes currently reuses the earlier instance.  In a future version, a new instance will always be created and returned.  Meanwhile, this warning can be suppressed, and the future behavior ensured, by passing a unique label to each axes instance.\n",
            "  after removing the cwd from sys.path.\n",
            "/usr/local/lib/python3.6/dist-packages/ipykernel_launcher.py:9: MatplotlibDeprecationWarning: Adding an axes using the same arguments as a previous axes currently reuses the earlier instance.  In a future version, a new instance will always be created and returned.  Meanwhile, this warning can be suppressed, and the future behavior ensured, by passing a unique label to each axes instance.\n",
            "  if __name__ == '__main__':\n"
          ],
          "name": "stderr"
        },
        {
          "output_type": "display_data",
          "data": {
            "image/png": "[encoded data removed]",
            "text/plain": [
              "<Figure size 432x288 with 2 Axes>"
            ]
          },
          "metadata": {
            "tags": []
          }
        },
        {
          "output_type": "stream",
          "text": [
            "Accuracy: mean=98.980 std=0.102 n=5\n"
          ],
          "name": "stdout"
        },
        {
          "output_type": "display_data",
          "data": {
            "image/png": "[encoded data removed]",
            "text/plain": [
              "<Figure size 432x288 with 1 Axes>"
            ]
          },
          "metadata": {
            "tags": []
          }
        }
      ]
    },
    {
      "cell_type": "code",
      "metadata": {
        "id": "amaItE-zgjG8",
        "colab_type": "code",
        "colab": {}
      },
      "source": [
        "def run_test_final():\n",
        "    trainX, trainY, testX, testY = load_dataset()\n",
        "    trainX, testX = prep_pixels(trainX, testX)\n",
        "    model = define_model()\n",
        "    model.fit(trainX, trainY, epochs=10, batch_size=32, verbose=0)\n",
        "    model.save('final_mnist_digits.h5')"
      ],
      "execution_count": 0,
      "outputs": []
    },
    {
      "cell_type": "code",
      "metadata": {
        "id": "bHkSs1JKoS9H",
        "colab_type": "code",
        "colab": {}
      },
      "source": [
        "run_test_final()"
      ],
      "execution_count": 0,
      "outputs": []
    },
    {
      "cell_type": "code",
      "metadata": {
        "id": "xjQLvHWvpJmT",
        "colab_type": "code",
        "colab": {}
      },
      "source": [
        "from tensorflow.python.keras.models import load_model"
      ],
      "execution_count": 0,
      "outputs": []
    },
    {
      "cell_type": "code",
      "metadata": {
        "id": "dPvtQIgDoUhR",
        "colab_type": "code",
        "colab": {}
      },
      "source": [
        "def run_test_final1():\n",
        "    trainX, trainY, testX, testY = load_dataset()\n",
        "    trainX, testX = prep_pixels(trainX, testX)\n",
        "  #  model = define_model()\n",
        "  #  model.fit(trainX, trainY, epochs=10, batch_size=32, verbose=0)\n",
        "   \n",
        "    model = load_model('final_mnist_digits.h5')\n",
        "    acc = model.evaluate(testX, testY, verbose=0)\n",
        "    print('> %.3f'%(acc * 100.0))"
      ],
      "execution_count": 0,
      "outputs": []
    },
    {
      "cell_type": "code",
      "metadata": {
        "id": "T4kokiSUpExu",
        "colab_type": "code",
        "colab": {}
      },
      "source": [
        "run_test_final1()"
      ],
      "execution_count": 0,
      "outputs": []
    },
    {
      "cell_type": "code",
      "metadata": {
        "id": "Zc8cyD9Yp1x6",
        "colab_type": "code",
        "colab": {
          "base_uri": "https://localhost:8080/",
          "height": 208
        },
        "outputId": "f837584b-bedb-490f-d950-b17ef431bac9"
      },
      "source": [
        "!wget https://3qeqpr26caki16dnhd19sv6by6v-wpengine.netdna-ssl.com/wp-content/uploads/2019/02/sample_image.png"
      ],
      "execution_count": 52,
      "outputs": [
        {
          "output_type": "stream",
          "text": [
            "--2020-01-18 08:03:22--  https://3qeqpr26caki16dnhd19sv6by6v-wpengine.netdna-ssl.com/wp-content/uploads/2019/02/sample_image.png\n",
            "Resolving 3qeqpr26caki16dnhd19sv6by6v-wpengine.netdna-ssl.com (3qeqpr26caki16dnhd19sv6by6v-wpengine.netdna-ssl.com)... 108.161.188.228\n",
            "Connecting to 3qeqpr26caki16dnhd19sv6by6v-wpengine.netdna-ssl.com (3qeqpr26caki16dnhd19sv6by6v-wpengine.netdna-ssl.com)|108.161.188.228|:443... connected.\n",
            "HTTP request sent, awaiting response... 200 OK\n",
            "Length: 61602 (60K) [image/png]\n",
            "Saving to: ‘sample_image.png’\n",
            "\n",
            "\rsample_image.png      0%[                    ]       0  --.-KB/s               \rsample_image.png    100%[===================>]  60.16K  --.-KB/s    in 0.03s   \n",
            "\n",
            "2020-01-18 08:03:23 (2.11 MB/s) - ‘sample_image.png’ saved [61602/61602]\n",
            "\n"
          ],
          "name": "stdout"
        }
      ]
    },
    {
      "cell_type": "code",
      "metadata": {
        "id": "PaOlbUe0qPnV",
        "colab_type": "code",
        "colab": {}
      },
      "source": [
        "from tensorflow.python.keras.preprocessing.image import load_img\n",
        "from tensorflow.python.keras.preprocessing.image import img_to_array"
      ],
      "execution_count": 0,
      "outputs": []
    },
    {
      "cell_type": "code",
      "metadata": {
        "id": "UvhlqosgqJU8",
        "colab_type": "code",
        "colab": {}
      },
      "source": [
        "def load_image(filename):\n",
        "    img = load_img(filename, grayscale=True, target_size=(28, 28))\n",
        "    img = img_to_array(img)\n",
        "    img = img.reshape(1, 28, 28, 1)\n",
        "    img = img.astype('float32')\n",
        "    img = img/255.0\n",
        "    return img"
      ],
      "execution_count": 0,
      "outputs": []
    },
    {
      "cell_type": "code",
      "metadata": {
        "id": "kvN6K5Ydqoz4",
        "colab_type": "code",
        "colab": {}
      },
      "source": [
        "def run_example():\n",
        "    img = load_image('sample_image.png')\n",
        "    model = load_model('final_mnist_digits.h5')\n",
        "    digit = model.predict_classes(img)\n",
        "    print(digit[0])"
      ],
      "execution_count": 0,
      "outputs": []
    },
    {
      "cell_type": "code",
      "metadata": {
        "id": "-hOIE81eq8zw",
        "colab_type": "code",
        "colab": {
          "base_uri": "https://localhost:8080/",
          "height": 69
        },
        "outputId": "41f9e677-25ac-443e-e9fd-7373d2572c98"
      },
      "source": [
        "run_example()"
      ],
      "execution_count": 63,
      "outputs": [
        {
          "output_type": "stream",
          "text": [
            "/usr/local/lib/python3.6/dist-packages/keras_preprocessing/image/utils.py:104: UserWarning: grayscale is deprecated. Please use color_mode = \"grayscale\"\n",
            "  warnings.warn('grayscale is deprecated. Please use '\n"
          ],
          "name": "stderr"
        },
        {
          "output_type": "stream",
          "text": [
            "7\n"
          ],
          "name": "stdout"
        }
      ]
    },
    {
      "cell_type": "code",
      "metadata": {
        "id": "k67BnCb1q-ZU",
        "colab_type": "code",
        "colab": {}
      },
      "source": [
        ""
      ],
      "execution_count": 0,
      "outputs": []
    }
  ]
}