{
  "nbformat": 4,
  "nbformat_minor": 0,
  "metadata": {
    "colab": {
      "name": "Breast Cancer.ipynb",
      "provenance": [],
      "authorship_tag": "ABX9TyN8kJLq9WTgwTsul3hvqLUw",
      "include_colab_link": true
    },
    "kernelspec": {
      "name": "python3",
      "display_name": "Python 3"
    },
    "accelerator": "GPU"
  },
  "cells": [
    {
      "cell_type": "markdown",
      "metadata": {
        "id": "view-in-github",
        "colab_type": "text"
      },
      "source": [
        "<a href=\"https://colab.research.google.com/github/oyyarko/deeplearning_cnn/blob/master/Breast_Cancer.ipynb\" target=\"_parent\"><img src=\"https://colab.research.google.com/assets/colab-badge.svg\" alt=\"Open In Colab\"/></a>"
      ]
    },
    {
      "cell_type": "code",
      "metadata": {
        "id": "Yk690nSxr-WZ",
        "colab_type": "code",
        "colab": {
          "base_uri": "https://localhost:8080/",
          "height": 553
        },
        "outputId": "80131409-7238-4c5d-845a-84926cba2d4f"
      },
      "source": [
        "!pip install tensorflow-gpu==2.0.0-rc0"
      ],
      "execution_count": 1,
      "outputs": [
        {
          "output_type": "stream",
          "text": [
            "Collecting tensorflow-gpu==2.0.0-rc0\n",
            "\u001b[?25l  Downloading https://files.pythonhosted.org/packages/6a/12/8c64cc62149cc21c70c55018502831bbf4d42bd62bed196df7de6830d21b/tensorflow_gpu-2.0.0rc0-cp36-cp36m-manylinux2010_x86_64.whl (380.5MB)\n",
            "\u001b[K     |████████████████████████████████| 380.5MB 45kB/s \n",
            "\u001b[?25hRequirement already satisfied: google-pasta>=0.1.6 in /usr/local/lib/python3.6/dist-packages (from tensorflow-gpu==2.0.0-rc0) (0.1.8)\n",
            "Requirement already satisfied: wrapt>=1.11.1 in /usr/local/lib/python3.6/dist-packages (from tensorflow-gpu==2.0.0-rc0) (1.11.2)\n",
            "Requirement already satisfied: six>=1.10.0 in /usr/local/lib/python3.6/dist-packages (from tensorflow-gpu==2.0.0-rc0) (1.12.0)\n",
            "Requirement already satisfied: wheel>=0.26 in /usr/local/lib/python3.6/dist-packages (from tensorflow-gpu==2.0.0-rc0) (0.34.2)\n",
            "Collecting tb-nightly<1.15.0a20190807,>=1.15.0a20190806\n",
            "\u001b[?25l  Downloading https://files.pythonhosted.org/packages/bc/88/24b5fb7280e74c7cf65bde47c171547fd02afb3840cff41bcbe9270650f5/tb_nightly-1.15.0a20190806-py3-none-any.whl (4.3MB)\n",
            "\u001b[K     |████████████████████████████████| 4.3MB 54.8MB/s \n",
            "\u001b[?25hRequirement already satisfied: absl-py>=0.7.0 in /usr/local/lib/python3.6/dist-packages (from tensorflow-gpu==2.0.0-rc0) (0.9.0)\n",
            "Requirement already satisfied: numpy<2.0,>=1.16.0 in /usr/local/lib/python3.6/dist-packages (from tensorflow-gpu==2.0.0-rc0) (1.17.5)\n",
            "Requirement already satisfied: keras-preprocessing>=1.0.5 in /usr/local/lib/python3.6/dist-packages (from tensorflow-gpu==2.0.0-rc0) (1.1.0)\n",
            "Requirement already satisfied: gast>=0.2.0 in /usr/local/lib/python3.6/dist-packages (from tensorflow-gpu==2.0.0-rc0) (0.2.2)\n",
            "Requirement already satisfied: opt-einsum>=2.3.2 in /usr/local/lib/python3.6/dist-packages (from tensorflow-gpu==2.0.0-rc0) (3.1.0)\n",
            "Requirement already satisfied: keras-applications>=1.0.8 in /usr/local/lib/python3.6/dist-packages (from tensorflow-gpu==2.0.0-rc0) (1.0.8)\n",
            "Requirement already satisfied: astor>=0.6.0 in /usr/local/lib/python3.6/dist-packages (from tensorflow-gpu==2.0.0-rc0) (0.8.1)\n",
            "Requirement already satisfied: protobuf>=3.6.1 in /usr/local/lib/python3.6/dist-packages (from tensorflow-gpu==2.0.0-rc0) (3.10.0)\n",
            "Requirement already satisfied: grpcio>=1.8.6 in /usr/local/lib/python3.6/dist-packages (from tensorflow-gpu==2.0.0-rc0) (1.27.1)\n",
            "Collecting tf-estimator-nightly<1.14.0.dev2019080602,>=1.14.0.dev2019080601\n",
            "\u001b[?25l  Downloading https://files.pythonhosted.org/packages/21/28/f2a27a62943d5f041e4a6fd404b2d21cb7c59b2242a4e73b03d9ba166552/tf_estimator_nightly-1.14.0.dev2019080601-py2.py3-none-any.whl (501kB)\n",
            "\u001b[K     |████████████████████████████████| 501kB 42.1MB/s \n",
            "\u001b[?25hRequirement already satisfied: termcolor>=1.1.0 in /usr/local/lib/python3.6/dist-packages (from tensorflow-gpu==2.0.0-rc0) (1.1.0)\n",
            "Requirement already satisfied: markdown>=2.6.8 in /usr/local/lib/python3.6/dist-packages (from tb-nightly<1.15.0a20190807,>=1.15.0a20190806->tensorflow-gpu==2.0.0-rc0) (3.2.1)\n",
            "Requirement already satisfied: setuptools>=41.0.0 in /usr/local/lib/python3.6/dist-packages (from tb-nightly<1.15.0a20190807,>=1.15.0a20190806->tensorflow-gpu==2.0.0-rc0) (45.1.0)\n",
            "Requirement already satisfied: werkzeug>=0.11.15 in /usr/local/lib/python3.6/dist-packages (from tb-nightly<1.15.0a20190807,>=1.15.0a20190806->tensorflow-gpu==2.0.0-rc0) (1.0.0)\n",
            "Requirement already satisfied: h5py in /usr/local/lib/python3.6/dist-packages (from keras-applications>=1.0.8->tensorflow-gpu==2.0.0-rc0) (2.8.0)\n",
            "Installing collected packages: tb-nightly, tf-estimator-nightly, tensorflow-gpu\n",
            "Successfully installed tb-nightly-1.15.0a20190806 tensorflow-gpu-2.0.0rc0 tf-estimator-nightly-1.14.0.dev2019080601\n"
          ],
          "name": "stdout"
        }
      ]
    },
    {
      "cell_type": "code",
      "metadata": {
        "id": "vSNEhmy5tLeE",
        "colab_type": "code",
        "colab": {
          "base_uri": "https://localhost:8080/",
          "height": 35
        },
        "outputId": "ff99e6a9-303e-4dcb-a8d0-ec0581934638"
      },
      "source": [
        "import tensorflow as tf\n",
        "from tensorflow.keras.models import Sequential\n",
        "from tensorflow.keras.layers import Dense, Flatten, Conv1D, MaxPool2D, Dropout\n",
        "from tensorflow import keras\n",
        "from tensorflow.keras.layers import BatchNormalization\n",
        "from tensorflow.keras.optimizers import Adam\n",
        "print(tf.__version__)"
      ],
      "execution_count": 19,
      "outputs": [
        {
          "output_type": "stream",
          "text": [
            "2.0.0-rc0\n"
          ],
          "name": "stdout"
        }
      ]
    },
    {
      "cell_type": "code",
      "metadata": {
        "id": "Dzn2FypyuAno",
        "colab_type": "code",
        "colab": {}
      },
      "source": [
        "import pandas as pd\n",
        "import numpy as np\n",
        "import matplotlib.pyplot as plt\n",
        "import seaborn as sns"
      ],
      "execution_count": 0,
      "outputs": []
    },
    {
      "cell_type": "code",
      "metadata": {
        "id": "kC-nwRX6uJHY",
        "colab_type": "code",
        "colab": {}
      },
      "source": [
        "from sklearn import datasets, metrics\n",
        "from sklearn.model_selection import train_test_split\n",
        "from sklearn.preprocessing import StandardScaler"
      ],
      "execution_count": 0,
      "outputs": []
    },
    {
      "cell_type": "code",
      "metadata": {
        "id": "MHfi_AZ0uUyg",
        "colab_type": "code",
        "colab": {}
      },
      "source": [
        "cancer = datasets.load_breast_cancer()"
      ],
      "execution_count": 0,
      "outputs": []
    },
    {
      "cell_type": "code",
      "metadata": {
        "id": "G0tD8pUQupF_",
        "colab_type": "code",
        "colab": {
          "base_uri": "https://localhost:8080/",
          "height": 1000
        },
        "outputId": "d3c777b5-fa88-4a76-f4b0-dee88511c383"
      },
      "source": [
        "print(cancer.DESCR)"
      ],
      "execution_count": 6,
      "outputs": [
        {
          "output_type": "stream",
          "text": [
            ".. _breast_cancer_dataset:\n",
            "\n",
            "Breast cancer wisconsin (diagnostic) dataset\n",
            "--------------------------------------------\n",
            "\n",
            "**Data Set Characteristics:**\n",
            "\n",
            "    :Number of Instances: 569\n",
            "\n",
            "    :Number of Attributes: 30 numeric, predictive attributes and the class\n",
            "\n",
            "    :Attribute Information:\n",
            "        - radius (mean of distances from center to points on the perimeter)\n",
            "        - texture (standard deviation of gray-scale values)\n",
            "        - perimeter\n",
            "        - area\n",
            "        - smoothness (local variation in radius lengths)\n",
            "        - compactness (perimeter^2 / area - 1.0)\n",
            "        - concavity (severity of concave portions of the contour)\n",
            "        - concave points (number of concave portions of the contour)\n",
            "        - symmetry \n",
            "        - fractal dimension (\"coastline approximation\" - 1)\n",
            "\n",
            "        The mean, standard error, and \"worst\" or largest (mean of the three\n",
            "        largest values) of these features were computed for each image,\n",
            "        resulting in 30 features.  For instance, field 3 is Mean Radius, field\n",
            "        13 is Radius SE, field 23 is Worst Radius.\n",
            "\n",
            "        - class:\n",
            "                - WDBC-Malignant\n",
            "                - WDBC-Benign\n",
            "\n",
            "    :Summary Statistics:\n",
            "\n",
            "    ===================================== ====== ======\n",
            "                                           Min    Max\n",
            "    ===================================== ====== ======\n",
            "    radius (mean):                        6.981  28.11\n",
            "    texture (mean):                       9.71   39.28\n",
            "    perimeter (mean):                     43.79  188.5\n",
            "    area (mean):                          143.5  2501.0\n",
            "    smoothness (mean):                    0.053  0.163\n",
            "    compactness (mean):                   0.019  0.345\n",
            "    concavity (mean):                     0.0    0.427\n",
            "    concave points (mean):                0.0    0.201\n",
            "    symmetry (mean):                      0.106  0.304\n",
            "    fractal dimension (mean):             0.05   0.097\n",
            "    radius (standard error):              0.112  2.873\n",
            "    texture (standard error):             0.36   4.885\n",
            "    perimeter (standard error):           0.757  21.98\n",
            "    area (standard error):                6.802  542.2\n",
            "    smoothness (standard error):          0.002  0.031\n",
            "    compactness (standard error):         0.002  0.135\n",
            "    concavity (standard error):           0.0    0.396\n",
            "    concave points (standard error):      0.0    0.053\n",
            "    symmetry (standard error):            0.008  0.079\n",
            "    fractal dimension (standard error):   0.001  0.03\n",
            "    radius (worst):                       7.93   36.04\n",
            "    texture (worst):                      12.02  49.54\n",
            "    perimeter (worst):                    50.41  251.2\n",
            "    area (worst):                         185.2  4254.0\n",
            "    smoothness (worst):                   0.071  0.223\n",
            "    compactness (worst):                  0.027  1.058\n",
            "    concavity (worst):                    0.0    1.252\n",
            "    concave points (worst):               0.0    0.291\n",
            "    symmetry (worst):                     0.156  0.664\n",
            "    fractal dimension (worst):            0.055  0.208\n",
            "    ===================================== ====== ======\n",
            "\n",
            "    :Missing Attribute Values: None\n",
            "\n",
            "    :Class Distribution: 212 - Malignant, 357 - Benign\n",
            "\n",
            "    :Creator:  Dr. William H. Wolberg, W. Nick Street, Olvi L. Mangasarian\n",
            "\n",
            "    :Donor: Nick Street\n",
            "\n",
            "    :Date: November, 1995\n",
            "\n",
            "This is a copy of UCI ML Breast Cancer Wisconsin (Diagnostic) datasets.\n",
            "https://goo.gl/U2Uwz2\n",
            "\n",
            "Features are computed from a digitized image of a fine needle\n",
            "aspirate (FNA) of a breast mass.  They describe\n",
            "characteristics of the cell nuclei present in the image.\n",
            "\n",
            "Separating plane described above was obtained using\n",
            "Multisurface Method-Tree (MSM-T) [K. P. Bennett, \"Decision Tree\n",
            "Construction Via Linear Programming.\" Proceedings of the 4th\n",
            "Midwest Artificial Intelligence and Cognitive Science Society,\n",
            "pp. 97-101, 1992], a classification method which uses linear\n",
            "programming to construct a decision tree.  Relevant features\n",
            "were selected using an exhaustive search in the space of 1-4\n",
            "features and 1-3 separating planes.\n",
            "\n",
            "The actual linear program used to obtain the separating plane\n",
            "in the 3-dimensional space is that described in:\n",
            "[K. P. Bennett and O. L. Mangasarian: \"Robust Linear\n",
            "Programming Discrimination of Two Linearly Inseparable Sets\",\n",
            "Optimization Methods and Software 1, 1992, 23-34].\n",
            "\n",
            "This database is also available through the UW CS ftp server:\n",
            "\n",
            "ftp ftp.cs.wisc.edu\n",
            "cd math-prog/cpo-dataset/machine-learn/WDBC/\n",
            "\n",
            ".. topic:: References\n",
            "\n",
            "   - W.N. Street, W.H. Wolberg and O.L. Mangasarian. Nuclear feature extraction \n",
            "     for breast tumor diagnosis. IS&T/SPIE 1993 International Symposium on \n",
            "     Electronic Imaging: Science and Technology, volume 1905, pages 861-870,\n",
            "     San Jose, CA, 1993.\n",
            "   - O.L. Mangasarian, W.N. Street and W.H. Wolberg. Breast cancer diagnosis and \n",
            "     prognosis via linear programming. Operations Research, 43(4), pages 570-577, \n",
            "     July-August 1995.\n",
            "   - W.H. Wolberg, W.N. Street, and O.L. Mangasarian. Machine learning techniques\n",
            "     to diagnose breast cancer from fine-needle aspirates. Cancer Letters 77 (1994) \n",
            "     163-171.\n"
          ],
          "name": "stdout"
        }
      ]
    },
    {
      "cell_type": "code",
      "metadata": {
        "id": "rRVaoQ--urIR",
        "colab_type": "code",
        "colab": {
          "base_uri": "https://localhost:8080/",
          "height": 261
        },
        "outputId": "2c4640c0-46be-440a-d61c-ecb8f91dfa49"
      },
      "source": [
        "X = pd.DataFrame(data=cancer.data, columns=cancer.feature_names)\n",
        "X.head()"
      ],
      "execution_count": 7,
      "outputs": [
        {
          "output_type": "execute_result",
          "data": {
            "text/html": [
              "<div>\n",
              "<style scoped>\n",
              "    .dataframe tbody tr th:only-of-type {\n",
              "        vertical-align: middle;\n",
              "    }\n",
              "\n",
              "    .dataframe tbody tr th {\n",
              "        vertical-align: top;\n",
              "    }\n",
              "\n",
              "    .dataframe thead th {\n",
              "        text-align: right;\n",
              "    }\n",
              "</style>\n",
              "<table border=\"1\" class=\"dataframe\">\n",
              "  <thead>\n",
              "    <tr style=\"text-align: right;\">\n",
              "      <th></th>\n",
              "      <th>mean radius</th>\n",
              "      <th>mean texture</th>\n",
              "      <th>mean perimeter</th>\n",
              "      <th>mean area</th>\n",
              "      <th>mean smoothness</th>\n",
              "      <th>mean compactness</th>\n",
              "      <th>mean concavity</th>\n",
              "      <th>mean concave points</th>\n",
              "      <th>mean symmetry</th>\n",
              "      <th>mean fractal dimension</th>\n",
              "      <th>radius error</th>\n",
              "      <th>texture error</th>\n",
              "      <th>perimeter error</th>\n",
              "      <th>area error</th>\n",
              "      <th>smoothness error</th>\n",
              "      <th>compactness error</th>\n",
              "      <th>concavity error</th>\n",
              "      <th>concave points error</th>\n",
              "      <th>symmetry error</th>\n",
              "      <th>fractal dimension error</th>\n",
              "      <th>worst radius</th>\n",
              "      <th>worst texture</th>\n",
              "      <th>worst perimeter</th>\n",
              "      <th>worst area</th>\n",
              "      <th>worst smoothness</th>\n",
              "      <th>worst compactness</th>\n",
              "      <th>worst concavity</th>\n",
              "      <th>worst concave points</th>\n",
              "      <th>worst symmetry</th>\n",
              "      <th>worst fractal dimension</th>\n",
              "    </tr>\n",
              "  </thead>\n",
              "  <tbody>\n",
              "    <tr>\n",
              "      <th>0</th>\n",
              "      <td>17.99</td>\n",
              "      <td>10.38</td>\n",
              "      <td>122.80</td>\n",
              "      <td>1001.0</td>\n",
              "      <td>0.11840</td>\n",
              "      <td>0.27760</td>\n",
              "      <td>0.3001</td>\n",
              "      <td>0.14710</td>\n",
              "      <td>0.2419</td>\n",
              "      <td>0.07871</td>\n",
              "      <td>1.0950</td>\n",
              "      <td>0.9053</td>\n",
              "      <td>8.589</td>\n",
              "      <td>153.40</td>\n",
              "      <td>0.006399</td>\n",
              "      <td>0.04904</td>\n",
              "      <td>0.05373</td>\n",
              "      <td>0.01587</td>\n",
              "      <td>0.03003</td>\n",
              "      <td>0.006193</td>\n",
              "      <td>25.38</td>\n",
              "      <td>17.33</td>\n",
              "      <td>184.60</td>\n",
              "      <td>2019.0</td>\n",
              "      <td>0.1622</td>\n",
              "      <td>0.6656</td>\n",
              "      <td>0.7119</td>\n",
              "      <td>0.2654</td>\n",
              "      <td>0.4601</td>\n",
              "      <td>0.11890</td>\n",
              "    </tr>\n",
              "    <tr>\n",
              "      <th>1</th>\n",
              "      <td>20.57</td>\n",
              "      <td>17.77</td>\n",
              "      <td>132.90</td>\n",
              "      <td>1326.0</td>\n",
              "      <td>0.08474</td>\n",
              "      <td>0.07864</td>\n",
              "      <td>0.0869</td>\n",
              "      <td>0.07017</td>\n",
              "      <td>0.1812</td>\n",
              "      <td>0.05667</td>\n",
              "      <td>0.5435</td>\n",
              "      <td>0.7339</td>\n",
              "      <td>3.398</td>\n",
              "      <td>74.08</td>\n",
              "      <td>0.005225</td>\n",
              "      <td>0.01308</td>\n",
              "      <td>0.01860</td>\n",
              "      <td>0.01340</td>\n",
              "      <td>0.01389</td>\n",
              "      <td>0.003532</td>\n",
              "      <td>24.99</td>\n",
              "      <td>23.41</td>\n",
              "      <td>158.80</td>\n",
              "      <td>1956.0</td>\n",
              "      <td>0.1238</td>\n",
              "      <td>0.1866</td>\n",
              "      <td>0.2416</td>\n",
              "      <td>0.1860</td>\n",
              "      <td>0.2750</td>\n",
              "      <td>0.08902</td>\n",
              "    </tr>\n",
              "    <tr>\n",
              "      <th>2</th>\n",
              "      <td>19.69</td>\n",
              "      <td>21.25</td>\n",
              "      <td>130.00</td>\n",
              "      <td>1203.0</td>\n",
              "      <td>0.10960</td>\n",
              "      <td>0.15990</td>\n",
              "      <td>0.1974</td>\n",
              "      <td>0.12790</td>\n",
              "      <td>0.2069</td>\n",
              "      <td>0.05999</td>\n",
              "      <td>0.7456</td>\n",
              "      <td>0.7869</td>\n",
              "      <td>4.585</td>\n",
              "      <td>94.03</td>\n",
              "      <td>0.006150</td>\n",
              "      <td>0.04006</td>\n",
              "      <td>0.03832</td>\n",
              "      <td>0.02058</td>\n",
              "      <td>0.02250</td>\n",
              "      <td>0.004571</td>\n",
              "      <td>23.57</td>\n",
              "      <td>25.53</td>\n",
              "      <td>152.50</td>\n",
              "      <td>1709.0</td>\n",
              "      <td>0.1444</td>\n",
              "      <td>0.4245</td>\n",
              "      <td>0.4504</td>\n",
              "      <td>0.2430</td>\n",
              "      <td>0.3613</td>\n",
              "      <td>0.08758</td>\n",
              "    </tr>\n",
              "    <tr>\n",
              "      <th>3</th>\n",
              "      <td>11.42</td>\n",
              "      <td>20.38</td>\n",
              "      <td>77.58</td>\n",
              "      <td>386.1</td>\n",
              "      <td>0.14250</td>\n",
              "      <td>0.28390</td>\n",
              "      <td>0.2414</td>\n",
              "      <td>0.10520</td>\n",
              "      <td>0.2597</td>\n",
              "      <td>0.09744</td>\n",
              "      <td>0.4956</td>\n",
              "      <td>1.1560</td>\n",
              "      <td>3.445</td>\n",
              "      <td>27.23</td>\n",
              "      <td>0.009110</td>\n",
              "      <td>0.07458</td>\n",
              "      <td>0.05661</td>\n",
              "      <td>0.01867</td>\n",
              "      <td>0.05963</td>\n",
              "      <td>0.009208</td>\n",
              "      <td>14.91</td>\n",
              "      <td>26.50</td>\n",
              "      <td>98.87</td>\n",
              "      <td>567.7</td>\n",
              "      <td>0.2098</td>\n",
              "      <td>0.8663</td>\n",
              "      <td>0.6869</td>\n",
              "      <td>0.2575</td>\n",
              "      <td>0.6638</td>\n",
              "      <td>0.17300</td>\n",
              "    </tr>\n",
              "    <tr>\n",
              "      <th>4</th>\n",
              "      <td>20.29</td>\n",
              "      <td>14.34</td>\n",
              "      <td>135.10</td>\n",
              "      <td>1297.0</td>\n",
              "      <td>0.10030</td>\n",
              "      <td>0.13280</td>\n",
              "      <td>0.1980</td>\n",
              "      <td>0.10430</td>\n",
              "      <td>0.1809</td>\n",
              "      <td>0.05883</td>\n",
              "      <td>0.7572</td>\n",
              "      <td>0.7813</td>\n",
              "      <td>5.438</td>\n",
              "      <td>94.44</td>\n",
              "      <td>0.011490</td>\n",
              "      <td>0.02461</td>\n",
              "      <td>0.05688</td>\n",
              "      <td>0.01885</td>\n",
              "      <td>0.01756</td>\n",
              "      <td>0.005115</td>\n",
              "      <td>22.54</td>\n",
              "      <td>16.67</td>\n",
              "      <td>152.20</td>\n",
              "      <td>1575.0</td>\n",
              "      <td>0.1374</td>\n",
              "      <td>0.2050</td>\n",
              "      <td>0.4000</td>\n",
              "      <td>0.1625</td>\n",
              "      <td>0.2364</td>\n",
              "      <td>0.07678</td>\n",
              "    </tr>\n",
              "  </tbody>\n",
              "</table>\n",
              "</div>"
            ],
            "text/plain": [
              "   mean radius  mean texture  ...  worst symmetry  worst fractal dimension\n",
              "0        17.99         10.38  ...          0.4601                  0.11890\n",
              "1        20.57         17.77  ...          0.2750                  0.08902\n",
              "2        19.69         21.25  ...          0.3613                  0.08758\n",
              "3        11.42         20.38  ...          0.6638                  0.17300\n",
              "4        20.29         14.34  ...          0.2364                  0.07678\n",
              "\n",
              "[5 rows x 30 columns]"
            ]
          },
          "metadata": {
            "tags": []
          },
          "execution_count": 7
        }
      ]
    },
    {
      "cell_type": "code",
      "metadata": {
        "id": "edBdfAy_vLTw",
        "colab_type": "code",
        "colab": {
          "base_uri": "https://localhost:8080/",
          "height": 302
        },
        "outputId": "66d098f6-827d-4a14-81f4-fc9ffac588e4"
      },
      "source": [
        "y = cancer.target\n",
        "print(y)"
      ],
      "execution_count": 8,
      "outputs": [
        {
          "output_type": "stream",
          "text": [
            "[0 0 0 0 0 0 0 0 0 0 0 0 0 0 0 0 0 0 0 1 1 1 0 0 0 0 0 0 0 0 0 0 0 0 0 0 0\n",
            " 1 0 0 0 0 0 0 0 0 1 0 1 1 1 1 1 0 0 1 0 0 1 1 1 1 0 1 0 0 1 1 1 1 0 1 0 0\n",
            " 1 0 1 0 0 1 1 1 0 0 1 0 0 0 1 1 1 0 1 1 0 0 1 1 1 0 0 1 1 1 1 0 1 1 0 1 1\n",
            " 1 1 1 1 1 1 0 0 0 1 0 0 1 1 1 0 0 1 0 1 0 0 1 0 0 1 1 0 1 1 0 1 1 1 1 0 1\n",
            " 1 1 1 1 1 1 1 1 0 1 1 1 1 0 0 1 0 1 1 0 0 1 1 0 0 1 1 1 1 0 1 1 0 0 0 1 0\n",
            " 1 0 1 1 1 0 1 1 0 0 1 0 0 0 0 1 0 0 0 1 0 1 0 1 1 0 1 0 0 0 0 1 1 0 0 1 1\n",
            " 1 0 1 1 1 1 1 0 0 1 1 0 1 1 0 0 1 0 1 1 1 1 0 1 1 1 1 1 0 1 0 0 0 0 0 0 0\n",
            " 0 0 0 0 0 0 0 1 1 1 1 1 1 0 1 0 1 1 0 1 1 0 1 0 0 1 1 1 1 1 1 1 1 1 1 1 1\n",
            " 1 0 1 1 0 1 0 1 1 1 1 1 1 1 1 1 1 1 1 1 1 0 1 1 1 0 1 0 1 1 1 1 0 0 0 1 1\n",
            " 1 1 0 1 0 1 0 1 1 1 0 1 1 1 1 1 1 1 0 0 0 1 1 1 1 1 1 1 1 1 1 1 0 0 1 0 0\n",
            " 0 1 0 0 1 1 1 1 1 0 1 1 1 1 1 0 1 1 1 0 1 1 0 0 1 1 1 1 1 1 0 1 1 1 1 1 1\n",
            " 1 0 1 1 1 1 1 0 1 1 0 1 1 1 1 1 1 1 1 1 1 1 1 0 1 0 0 1 0 1 1 1 1 1 0 1 1\n",
            " 0 1 0 1 1 0 1 0 1 1 1 1 1 1 1 1 0 0 1 1 1 1 1 1 0 1 1 1 1 1 1 1 1 1 1 0 1\n",
            " 1 1 1 1 1 1 0 1 0 1 1 0 1 1 1 1 1 0 0 1 0 1 0 1 1 1 1 1 0 1 1 0 1 0 1 0 0\n",
            " 1 1 1 0 1 1 1 1 1 1 1 1 1 1 1 0 1 0 0 1 1 1 1 1 1 1 1 1 1 1 1 1 1 1 1 1 1\n",
            " 1 1 1 1 1 1 1 0 0 0 0 0 0 1]\n"
          ],
          "name": "stdout"
        }
      ]
    },
    {
      "cell_type": "code",
      "metadata": {
        "id": "Knfrx2MpvRwB",
        "colab_type": "code",
        "colab": {
          "base_uri": "https://localhost:8080/",
          "height": 35
        },
        "outputId": "f72bcb74-fdaf-4b49-a41f-3c5c86b4184f"
      },
      "source": [
        "cancer.target_names"
      ],
      "execution_count": 9,
      "outputs": [
        {
          "output_type": "execute_result",
          "data": {
            "text/plain": [
              "array(['malignant', 'benign'], dtype='<U9')"
            ]
          },
          "metadata": {
            "tags": []
          },
          "execution_count": 9
        }
      ]
    },
    {
      "cell_type": "code",
      "metadata": {
        "id": "zlCZ6E-PvT9K",
        "colab_type": "code",
        "colab": {
          "base_uri": "https://localhost:8080/",
          "height": 35
        },
        "outputId": "d6365029-1dda-49b4-d8a1-df8f5b20beae"
      },
      "source": [
        "X.shape"
      ],
      "execution_count": 10,
      "outputs": [
        {
          "output_type": "execute_result",
          "data": {
            "text/plain": [
              "(569, 30)"
            ]
          },
          "metadata": {
            "tags": []
          },
          "execution_count": 10
        }
      ]
    },
    {
      "cell_type": "code",
      "metadata": {
        "id": "4mqF9P2xvaFh",
        "colab_type": "code",
        "colab": {}
      },
      "source": [
        "X_train, X_test, y_train, y_test = train_test_split(X, y, test_size=0.2, random_state=0, stratify=y)"
      ],
      "execution_count": 0,
      "outputs": []
    },
    {
      "cell_type": "code",
      "metadata": {
        "id": "YHL52VsHvqT3",
        "colab_type": "code",
        "colab": {
          "base_uri": "https://localhost:8080/",
          "height": 35
        },
        "outputId": "d0bb7f06-8492-462f-d0df-4a3200d320cc"
      },
      "source": [
        "X_train.shape"
      ],
      "execution_count": 12,
      "outputs": [
        {
          "output_type": "execute_result",
          "data": {
            "text/plain": [
              "(455, 30)"
            ]
          },
          "metadata": {
            "tags": []
          },
          "execution_count": 12
        }
      ]
    },
    {
      "cell_type": "code",
      "metadata": {
        "id": "So7ExOmKvrqr",
        "colab_type": "code",
        "colab": {
          "base_uri": "https://localhost:8080/",
          "height": 35
        },
        "outputId": "eb72a881-8ae8-4f06-d409-d6814ef2a5e7"
      },
      "source": [
        "X_test.shape"
      ],
      "execution_count": 13,
      "outputs": [
        {
          "output_type": "execute_result",
          "data": {
            "text/plain": [
              "(114, 30)"
            ]
          },
          "metadata": {
            "tags": []
          },
          "execution_count": 13
        }
      ]
    },
    {
      "cell_type": "code",
      "metadata": {
        "id": "XFPgI1tpvtVd",
        "colab_type": "code",
        "colab": {}
      },
      "source": [
        "scaler = StandardScaler()\n",
        "X_train = scaler.fit_transform(X_train)\n",
        "X_test = scaler.fit_transform(X_test)"
      ],
      "execution_count": 0,
      "outputs": []
    },
    {
      "cell_type": "code",
      "metadata": {
        "id": "z53f-dI_wQxP",
        "colab_type": "code",
        "colab": {}
      },
      "source": [
        "X_train = X_train.reshape(455, 30, 1)\n",
        "X_test = X_test.reshape(114, 30, 1)"
      ],
      "execution_count": 0,
      "outputs": []
    },
    {
      "cell_type": "code",
      "metadata": {
        "id": "c1MCPbyfwa_8",
        "colab_type": "code",
        "colab": {
          "base_uri": "https://localhost:8080/",
          "height": 35
        },
        "outputId": "a6de96c4-a0e3-4069-ba31-1ffb254d2bdb"
      },
      "source": [
        "X_train.shape"
      ],
      "execution_count": 17,
      "outputs": [
        {
          "output_type": "execute_result",
          "data": {
            "text/plain": [
              "(455, 30, 1)"
            ]
          },
          "metadata": {
            "tags": []
          },
          "execution_count": 17
        }
      ]
    },
    {
      "cell_type": "code",
      "metadata": {
        "id": "PwYeP0QYwdA9",
        "colab_type": "code",
        "colab": {}
      },
      "source": [
        "epochs = 100\n",
        "model = Sequential()\n",
        "model.add(Conv1D(filters=32, kernel_size=2, activation='relu', input_shape = (30,1)))\n",
        "model.add(BatchNormalization())\n",
        "model.add(Dropout(0.2))\n",
        "\n",
        "model.add(Conv1D(filters=64, kernel_size=2, activation='relu'))\n",
        "model.add(BatchNormalization())\n",
        "model.add(Dropout(0.5))\n",
        "\n",
        "model.add(Flatten())\n",
        "model.add(Dense(64, activation='relu'))\n",
        "model.add(Dropout(0.5))\n",
        "\n",
        "model.add(Dense(1, activation='sigmoid'))"
      ],
      "execution_count": 0,
      "outputs": []
    },
    {
      "cell_type": "code",
      "metadata": {
        "id": "3mIMkQOHxTLL",
        "colab_type": "code",
        "colab": {
          "base_uri": "https://localhost:8080/",
          "height": 515
        },
        "outputId": "3687cc60-916b-4727-c29e-5df5fe78172c"
      },
      "source": [
        "model.summary()"
      ],
      "execution_count": 21,
      "outputs": [
        {
          "output_type": "stream",
          "text": [
            "Model: \"sequential_1\"\n",
            "_________________________________________________________________\n",
            "Layer (type)                 Output Shape              Param #   \n",
            "=================================================================\n",
            "conv1d (Conv1D)              (None, 29, 32)            96        \n",
            "_________________________________________________________________\n",
            "batch_normalization (BatchNo (None, 29, 32)            128       \n",
            "_________________________________________________________________\n",
            "dropout (Dropout)            (None, 29, 32)            0         \n",
            "_________________________________________________________________\n",
            "conv1d_1 (Conv1D)            (None, 28, 64)            4160      \n",
            "_________________________________________________________________\n",
            "batch_normalization_1 (Batch (None, 28, 64)            256       \n",
            "_________________________________________________________________\n",
            "dropout_1 (Dropout)          (None, 28, 64)            0         \n",
            "_________________________________________________________________\n",
            "flatten (Flatten)            (None, 1792)              0         \n",
            "_________________________________________________________________\n",
            "dense (Dense)                (None, 64)                114752    \n",
            "_________________________________________________________________\n",
            "dropout_2 (Dropout)          (None, 64)                0         \n",
            "_________________________________________________________________\n",
            "dense_1 (Dense)              (None, 1)                 65        \n",
            "=================================================================\n",
            "Total params: 119,457\n",
            "Trainable params: 119,265\n",
            "Non-trainable params: 192\n",
            "_________________________________________________________________\n"
          ],
          "name": "stdout"
        }
      ]
    },
    {
      "cell_type": "code",
      "metadata": {
        "id": "FA7HauM_yH0u",
        "colab_type": "code",
        "colab": {}
      },
      "source": [
        "model.compile(optimizer=Adam(lr=0.00005), loss='binary_crossentropy', metrics=['accuracy'])\n"
      ],
      "execution_count": 0,
      "outputs": []
    },
    {
      "cell_type": "code",
      "metadata": {
        "id": "TeJwZoBmyVna",
        "colab_type": "code",
        "colab": {
          "base_uri": "https://localhost:8080/",
          "height": 1000
        },
        "outputId": "65b8f307-8353-4969-a8b7-bd69a431191e"
      },
      "source": [
        "history = model.fit(X_train, y_train, epochs=epochs, validation_data=(X_test, y_test), verbose=1)"
      ],
      "execution_count": 28,
      "outputs": [
        {
          "output_type": "stream",
          "text": [
            "Train on 455 samples, validate on 114 samples\n",
            "Epoch 1/100\n",
            "455/455 [==============================] - 1s 3ms/sample - loss: 1.0887 - accuracy: 0.5758 - val_loss: 0.6567 - val_accuracy: 0.8596\n",
            "Epoch 2/100\n",
            "455/455 [==============================] - 0s 241us/sample - loss: 0.9110 - accuracy: 0.6440 - val_loss: 0.6262 - val_accuracy: 0.9298\n",
            "Epoch 3/100\n",
            "455/455 [==============================] - 0s 240us/sample - loss: 0.5731 - accuracy: 0.7495 - val_loss: 0.5953 - val_accuracy: 0.9123\n",
            "Epoch 4/100\n",
            "455/455 [==============================] - 0s 261us/sample - loss: 0.5964 - accuracy: 0.7604 - val_loss: 0.5592 - val_accuracy: 0.9123\n",
            "Epoch 5/100\n",
            "455/455 [==============================] - 0s 239us/sample - loss: 0.4576 - accuracy: 0.8000 - val_loss: 0.5219 - val_accuracy: 0.9035\n",
            "Epoch 6/100\n",
            "455/455 [==============================] - 0s 284us/sample - loss: 0.4711 - accuracy: 0.7978 - val_loss: 0.4879 - val_accuracy: 0.8947\n",
            "Epoch 7/100\n",
            "455/455 [==============================] - 0s 235us/sample - loss: 0.4262 - accuracy: 0.8396 - val_loss: 0.4549 - val_accuracy: 0.8947\n",
            "Epoch 8/100\n",
            "455/455 [==============================] - 0s 260us/sample - loss: 0.3433 - accuracy: 0.8681 - val_loss: 0.4249 - val_accuracy: 0.8860\n",
            "Epoch 9/100\n",
            "455/455 [==============================] - 0s 263us/sample - loss: 0.2919 - accuracy: 0.8857 - val_loss: 0.3975 - val_accuracy: 0.8684\n",
            "Epoch 10/100\n",
            "455/455 [==============================] - 0s 259us/sample - loss: 0.2467 - accuracy: 0.9011 - val_loss: 0.3705 - val_accuracy: 0.8947\n",
            "Epoch 11/100\n",
            "455/455 [==============================] - 0s 253us/sample - loss: 0.2589 - accuracy: 0.8813 - val_loss: 0.3445 - val_accuracy: 0.8947\n",
            "Epoch 12/100\n",
            "455/455 [==============================] - 0s 242us/sample - loss: 0.2835 - accuracy: 0.8769 - val_loss: 0.3196 - val_accuracy: 0.9123\n",
            "Epoch 13/100\n",
            "455/455 [==============================] - 0s 251us/sample - loss: 0.2440 - accuracy: 0.8901 - val_loss: 0.2959 - val_accuracy: 0.9123\n",
            "Epoch 14/100\n",
            "455/455 [==============================] - 0s 208us/sample - loss: 0.2072 - accuracy: 0.9099 - val_loss: 0.2759 - val_accuracy: 0.9123\n",
            "Epoch 15/100\n",
            "455/455 [==============================] - 0s 265us/sample - loss: 0.2457 - accuracy: 0.9099 - val_loss: 0.2579 - val_accuracy: 0.9211\n",
            "Epoch 16/100\n",
            "455/455 [==============================] - 0s 258us/sample - loss: 0.2177 - accuracy: 0.9121 - val_loss: 0.2421 - val_accuracy: 0.9211\n",
            "Epoch 17/100\n",
            "455/455 [==============================] - 0s 256us/sample - loss: 0.1707 - accuracy: 0.9165 - val_loss: 0.2263 - val_accuracy: 0.9298\n",
            "Epoch 18/100\n",
            "455/455 [==============================] - 0s 263us/sample - loss: 0.1844 - accuracy: 0.9143 - val_loss: 0.2120 - val_accuracy: 0.9298\n",
            "Epoch 19/100\n",
            "455/455 [==============================] - 0s 258us/sample - loss: 0.2149 - accuracy: 0.9253 - val_loss: 0.2020 - val_accuracy: 0.9298\n",
            "Epoch 20/100\n",
            "455/455 [==============================] - 0s 253us/sample - loss: 0.1750 - accuracy: 0.9253 - val_loss: 0.1901 - val_accuracy: 0.9386\n",
            "Epoch 21/100\n",
            "455/455 [==============================] - 0s 217us/sample - loss: 0.2442 - accuracy: 0.9165 - val_loss: 0.1824 - val_accuracy: 0.9386\n",
            "Epoch 22/100\n",
            "455/455 [==============================] - 0s 216us/sample - loss: 0.2426 - accuracy: 0.9297 - val_loss: 0.1722 - val_accuracy: 0.9474\n",
            "Epoch 23/100\n",
            "455/455 [==============================] - 0s 207us/sample - loss: 0.2064 - accuracy: 0.9187 - val_loss: 0.1646 - val_accuracy: 0.9474\n",
            "Epoch 24/100\n",
            "455/455 [==============================] - 0s 320us/sample - loss: 0.1409 - accuracy: 0.9516 - val_loss: 0.1567 - val_accuracy: 0.9561\n",
            "Epoch 25/100\n",
            "455/455 [==============================] - 0s 260us/sample - loss: 0.1801 - accuracy: 0.9319 - val_loss: 0.1504 - val_accuracy: 0.9561\n",
            "Epoch 26/100\n",
            "455/455 [==============================] - 0s 245us/sample - loss: 0.1396 - accuracy: 0.9495 - val_loss: 0.1440 - val_accuracy: 0.9561\n",
            "Epoch 27/100\n",
            "455/455 [==============================] - 0s 258us/sample - loss: 0.1900 - accuracy: 0.9319 - val_loss: 0.1376 - val_accuracy: 0.9649\n",
            "Epoch 28/100\n",
            "455/455 [==============================] - 0s 244us/sample - loss: 0.1903 - accuracy: 0.9253 - val_loss: 0.1331 - val_accuracy: 0.9649\n",
            "Epoch 29/100\n",
            "455/455 [==============================] - 0s 272us/sample - loss: 0.1480 - accuracy: 0.9451 - val_loss: 0.1282 - val_accuracy: 0.9649\n",
            "Epoch 30/100\n",
            "455/455 [==============================] - 0s 239us/sample - loss: 0.2050 - accuracy: 0.9253 - val_loss: 0.1231 - val_accuracy: 0.9649\n",
            "Epoch 31/100\n",
            "455/455 [==============================] - 0s 207us/sample - loss: 0.1399 - accuracy: 0.9560 - val_loss: 0.1210 - val_accuracy: 0.9649\n",
            "Epoch 32/100\n",
            "455/455 [==============================] - 0s 204us/sample - loss: 0.1254 - accuracy: 0.9516 - val_loss: 0.1184 - val_accuracy: 0.9649\n",
            "Epoch 33/100\n",
            "455/455 [==============================] - 0s 276us/sample - loss: 0.1484 - accuracy: 0.9451 - val_loss: 0.1163 - val_accuracy: 0.9649\n",
            "Epoch 34/100\n",
            "455/455 [==============================] - 0s 247us/sample - loss: 0.1407 - accuracy: 0.9516 - val_loss: 0.1143 - val_accuracy: 0.9649\n",
            "Epoch 35/100\n",
            "455/455 [==============================] - 0s 254us/sample - loss: 0.1268 - accuracy: 0.9516 - val_loss: 0.1118 - val_accuracy: 0.9649\n",
            "Epoch 36/100\n",
            "455/455 [==============================] - 0s 263us/sample - loss: 0.1348 - accuracy: 0.9538 - val_loss: 0.1102 - val_accuracy: 0.9649\n",
            "Epoch 37/100\n",
            "455/455 [==============================] - 0s 264us/sample - loss: 0.1710 - accuracy: 0.9363 - val_loss: 0.1083 - val_accuracy: 0.9649\n",
            "Epoch 38/100\n",
            "455/455 [==============================] - 0s 272us/sample - loss: 0.1279 - accuracy: 0.9538 - val_loss: 0.1069 - val_accuracy: 0.9649\n",
            "Epoch 39/100\n",
            "455/455 [==============================] - 0s 240us/sample - loss: 0.1483 - accuracy: 0.9385 - val_loss: 0.1052 - val_accuracy: 0.9649\n",
            "Epoch 40/100\n",
            "455/455 [==============================] - 0s 213us/sample - loss: 0.1346 - accuracy: 0.9473 - val_loss: 0.1034 - val_accuracy: 0.9649\n",
            "Epoch 41/100\n",
            "455/455 [==============================] - 0s 218us/sample - loss: 0.1347 - accuracy: 0.9473 - val_loss: 0.1046 - val_accuracy: 0.9649\n",
            "Epoch 42/100\n",
            "455/455 [==============================] - 0s 235us/sample - loss: 0.1257 - accuracy: 0.9495 - val_loss: 0.1043 - val_accuracy: 0.9649\n",
            "Epoch 43/100\n",
            "455/455 [==============================] - 0s 258us/sample - loss: 0.1176 - accuracy: 0.9451 - val_loss: 0.1032 - val_accuracy: 0.9649\n",
            "Epoch 44/100\n",
            "455/455 [==============================] - 0s 290us/sample - loss: 0.1259 - accuracy: 0.9560 - val_loss: 0.1033 - val_accuracy: 0.9649\n",
            "Epoch 45/100\n",
            "455/455 [==============================] - 0s 277us/sample - loss: 0.1090 - accuracy: 0.9495 - val_loss: 0.1034 - val_accuracy: 0.9649\n",
            "Epoch 46/100\n",
            "455/455 [==============================] - 0s 262us/sample - loss: 0.1374 - accuracy: 0.9473 - val_loss: 0.1038 - val_accuracy: 0.9649\n",
            "Epoch 47/100\n",
            "455/455 [==============================] - 0s 244us/sample - loss: 0.0944 - accuracy: 0.9604 - val_loss: 0.1040 - val_accuracy: 0.9649\n",
            "Epoch 48/100\n",
            "455/455 [==============================] - 0s 225us/sample - loss: 0.1166 - accuracy: 0.9582 - val_loss: 0.1042 - val_accuracy: 0.9649\n",
            "Epoch 49/100\n",
            "455/455 [==============================] - 0s 198us/sample - loss: 0.1189 - accuracy: 0.9495 - val_loss: 0.1032 - val_accuracy: 0.9649\n",
            "Epoch 50/100\n",
            "455/455 [==============================] - 0s 210us/sample - loss: 0.0978 - accuracy: 0.9560 - val_loss: 0.1023 - val_accuracy: 0.9649\n",
            "Epoch 51/100\n",
            "455/455 [==============================] - 0s 228us/sample - loss: 0.1145 - accuracy: 0.9560 - val_loss: 0.1013 - val_accuracy: 0.9649\n",
            "Epoch 52/100\n",
            "455/455 [==============================] - 0s 244us/sample - loss: 0.1248 - accuracy: 0.9538 - val_loss: 0.1007 - val_accuracy: 0.9649\n",
            "Epoch 53/100\n",
            "455/455 [==============================] - 0s 249us/sample - loss: 0.0964 - accuracy: 0.9626 - val_loss: 0.1016 - val_accuracy: 0.9649\n",
            "Epoch 54/100\n",
            "455/455 [==============================] - 0s 245us/sample - loss: 0.1094 - accuracy: 0.9582 - val_loss: 0.1023 - val_accuracy: 0.9649\n",
            "Epoch 55/100\n",
            "455/455 [==============================] - 0s 254us/sample - loss: 0.1110 - accuracy: 0.9582 - val_loss: 0.1014 - val_accuracy: 0.9649\n",
            "Epoch 56/100\n",
            "455/455 [==============================] - 0s 259us/sample - loss: 0.1247 - accuracy: 0.9560 - val_loss: 0.1018 - val_accuracy: 0.9649\n",
            "Epoch 57/100\n",
            "455/455 [==============================] - 0s 259us/sample - loss: 0.1166 - accuracy: 0.9626 - val_loss: 0.1016 - val_accuracy: 0.9649\n",
            "Epoch 58/100\n",
            "455/455 [==============================] - 0s 258us/sample - loss: 0.0879 - accuracy: 0.9670 - val_loss: 0.1012 - val_accuracy: 0.9649\n",
            "Epoch 59/100\n",
            "455/455 [==============================] - 0s 226us/sample - loss: 0.0931 - accuracy: 0.9626 - val_loss: 0.1011 - val_accuracy: 0.9649\n",
            "Epoch 60/100\n",
            "455/455 [==============================] - 0s 227us/sample - loss: 0.1123 - accuracy: 0.9538 - val_loss: 0.1018 - val_accuracy: 0.9649\n",
            "Epoch 61/100\n",
            "455/455 [==============================] - 0s 219us/sample - loss: 0.0908 - accuracy: 0.9604 - val_loss: 0.1002 - val_accuracy: 0.9649\n",
            "Epoch 62/100\n",
            "455/455 [==============================] - 0s 248us/sample - loss: 0.0862 - accuracy: 0.9648 - val_loss: 0.0995 - val_accuracy: 0.9649\n",
            "Epoch 63/100\n",
            "455/455 [==============================] - 0s 243us/sample - loss: 0.0983 - accuracy: 0.9582 - val_loss: 0.0991 - val_accuracy: 0.9649\n",
            "Epoch 64/100\n",
            "455/455 [==============================] - 0s 259us/sample - loss: 0.1012 - accuracy: 0.9604 - val_loss: 0.0988 - val_accuracy: 0.9649\n",
            "Epoch 65/100\n",
            "455/455 [==============================] - 0s 197us/sample - loss: 0.1047 - accuracy: 0.9604 - val_loss: 0.0981 - val_accuracy: 0.9649\n",
            "Epoch 66/100\n",
            "455/455 [==============================] - 0s 203us/sample - loss: 0.1051 - accuracy: 0.9604 - val_loss: 0.0995 - val_accuracy: 0.9649\n",
            "Epoch 67/100\n",
            "455/455 [==============================] - 0s 215us/sample - loss: 0.1056 - accuracy: 0.9692 - val_loss: 0.1002 - val_accuracy: 0.9649\n",
            "Epoch 68/100\n",
            "455/455 [==============================] - 0s 202us/sample - loss: 0.1138 - accuracy: 0.9692 - val_loss: 0.0995 - val_accuracy: 0.9649\n",
            "Epoch 69/100\n",
            "455/455 [==============================] - 0s 301us/sample - loss: 0.0841 - accuracy: 0.9758 - val_loss: 0.0988 - val_accuracy: 0.9649\n",
            "Epoch 70/100\n",
            "455/455 [==============================] - 0s 258us/sample - loss: 0.1133 - accuracy: 0.9538 - val_loss: 0.0979 - val_accuracy: 0.9649\n",
            "Epoch 71/100\n",
            "455/455 [==============================] - 0s 257us/sample - loss: 0.0933 - accuracy: 0.9604 - val_loss: 0.0972 - val_accuracy: 0.9649\n",
            "Epoch 72/100\n",
            "455/455 [==============================] - 0s 274us/sample - loss: 0.0941 - accuracy: 0.9714 - val_loss: 0.0972 - val_accuracy: 0.9649\n",
            "Epoch 73/100\n",
            "455/455 [==============================] - 0s 265us/sample - loss: 0.0909 - accuracy: 0.9604 - val_loss: 0.0968 - val_accuracy: 0.9737\n",
            "Epoch 74/100\n",
            "455/455 [==============================] - 0s 274us/sample - loss: 0.1063 - accuracy: 0.9714 - val_loss: 0.0967 - val_accuracy: 0.9649\n",
            "Epoch 75/100\n",
            "455/455 [==============================] - 0s 245us/sample - loss: 0.1087 - accuracy: 0.9626 - val_loss: 0.0963 - val_accuracy: 0.9649\n",
            "Epoch 76/100\n",
            "455/455 [==============================] - 0s 263us/sample - loss: 0.0957 - accuracy: 0.9626 - val_loss: 0.0943 - val_accuracy: 0.9649\n",
            "Epoch 77/100\n",
            "455/455 [==============================] - 0s 214us/sample - loss: 0.0765 - accuracy: 0.9802 - val_loss: 0.0940 - val_accuracy: 0.9649\n",
            "Epoch 78/100\n",
            "455/455 [==============================] - 0s 233us/sample - loss: 0.0879 - accuracy: 0.9648 - val_loss: 0.0943 - val_accuracy: 0.9649\n",
            "Epoch 79/100\n",
            "455/455 [==============================] - 0s 243us/sample - loss: 0.1000 - accuracy: 0.9692 - val_loss: 0.0942 - val_accuracy: 0.9649\n",
            "Epoch 80/100\n",
            "455/455 [==============================] - 0s 237us/sample - loss: 0.0895 - accuracy: 0.9604 - val_loss: 0.0939 - val_accuracy: 0.9737\n",
            "Epoch 81/100\n",
            "455/455 [==============================] - 0s 257us/sample - loss: 0.0835 - accuracy: 0.9714 - val_loss: 0.0937 - val_accuracy: 0.9737\n",
            "Epoch 82/100\n",
            "455/455 [==============================] - 0s 245us/sample - loss: 0.0886 - accuracy: 0.9582 - val_loss: 0.0933 - val_accuracy: 0.9737\n",
            "Epoch 83/100\n",
            "455/455 [==============================] - 0s 213us/sample - loss: 0.1284 - accuracy: 0.9560 - val_loss: 0.0933 - val_accuracy: 0.9825\n",
            "Epoch 84/100\n",
            "455/455 [==============================] - 0s 223us/sample - loss: 0.0993 - accuracy: 0.9560 - val_loss: 0.0945 - val_accuracy: 0.9737\n",
            "Epoch 85/100\n",
            "455/455 [==============================] - 0s 214us/sample - loss: 0.0929 - accuracy: 0.9648 - val_loss: 0.0952 - val_accuracy: 0.9737\n",
            "Epoch 86/100\n",
            "455/455 [==============================] - 0s 215us/sample - loss: 0.0762 - accuracy: 0.9692 - val_loss: 0.0950 - val_accuracy: 0.9825\n",
            "Epoch 87/100\n",
            "455/455 [==============================] - 0s 212us/sample - loss: 0.1310 - accuracy: 0.9516 - val_loss: 0.0957 - val_accuracy: 0.9825\n",
            "Epoch 88/100\n",
            "455/455 [==============================] - 0s 232us/sample - loss: 0.0503 - accuracy: 0.9824 - val_loss: 0.0957 - val_accuracy: 0.9825\n",
            "Epoch 89/100\n",
            "455/455 [==============================] - 0s 218us/sample - loss: 0.0932 - accuracy: 0.9648 - val_loss: 0.0962 - val_accuracy: 0.9737\n",
            "Epoch 90/100\n",
            "455/455 [==============================] - 0s 226us/sample - loss: 0.0778 - accuracy: 0.9626 - val_loss: 0.0962 - val_accuracy: 0.9825\n",
            "Epoch 91/100\n",
            "455/455 [==============================] - 0s 251us/sample - loss: 0.0856 - accuracy: 0.9648 - val_loss: 0.0953 - val_accuracy: 0.9825\n",
            "Epoch 92/100\n",
            "455/455 [==============================] - 0s 256us/sample - loss: 0.0796 - accuracy: 0.9604 - val_loss: 0.0951 - val_accuracy: 0.9737\n",
            "Epoch 93/100\n",
            "455/455 [==============================] - 0s 238us/sample - loss: 0.1036 - accuracy: 0.9648 - val_loss: 0.0948 - val_accuracy: 0.9737\n",
            "Epoch 94/100\n",
            "455/455 [==============================] - 0s 204us/sample - loss: 0.0885 - accuracy: 0.9670 - val_loss: 0.0941 - val_accuracy: 0.9737\n",
            "Epoch 95/100\n",
            "455/455 [==============================] - 0s 209us/sample - loss: 0.0825 - accuracy: 0.9604 - val_loss: 0.0951 - val_accuracy: 0.9737\n",
            "Epoch 96/100\n",
            "455/455 [==============================] - 0s 219us/sample - loss: 0.0611 - accuracy: 0.9758 - val_loss: 0.0955 - val_accuracy: 0.9737\n",
            "Epoch 97/100\n",
            "455/455 [==============================] - 0s 215us/sample - loss: 0.0550 - accuracy: 0.9802 - val_loss: 0.0958 - val_accuracy: 0.9737\n",
            "Epoch 98/100\n",
            "455/455 [==============================] - 0s 264us/sample - loss: 0.0573 - accuracy: 0.9780 - val_loss: 0.0962 - val_accuracy: 0.9737\n",
            "Epoch 99/100\n",
            "455/455 [==============================] - 0s 266us/sample - loss: 0.0896 - accuracy: 0.9714 - val_loss: 0.0958 - val_accuracy: 0.9825\n",
            "Epoch 100/100\n",
            "455/455 [==============================] - 0s 259us/sample - loss: 0.1107 - accuracy: 0.9736 - val_loss: 0.0945 - val_accuracy: 0.9825\n"
          ],
          "name": "stdout"
        }
      ]
    },
    {
      "cell_type": "code",
      "metadata": {
        "id": "VRsmZXLfyh17",
        "colab_type": "code",
        "colab": {}
      },
      "source": [
        "def plot_curve(history, epochs):\n",
        "    epoch_range = range(1, epochs+1)\n",
        "    plt.plot(epoch_range, history.history['accuracy'])\n",
        "    plt.plot(epoch_range, history.history['val_accuracy'])\n",
        "    plt.ylabel('Accuracy')\n",
        "    plt.xlabel('Epoch')\n",
        "    plt.title('Model Accuracy')\n",
        "    plt.legend(['Train', 'Val'], loc='upper left')\n",
        "    plt.show()\n",
        "\n",
        "    plt.plot(epoch_range, history.history['loss'])\n",
        "    plt.plot(epoch_range, history.history['val_loss'])\n",
        "    plt.ylabel('Loss')\n",
        "    plt.xlabel('Epoch')\n",
        "    plt.title('Model Loss')\n",
        "    plt.legend(['Test', 'Val'], loc='upper left')\n",
        "    plt.show()"
      ],
      "execution_count": 0,
      "outputs": []
    },
    {
      "cell_type": "code",
      "metadata": {
        "id": "Qu9s8vK-zkxr",
        "colab_type": "code",
        "colab": {
          "base_uri": "https://localhost:8080/",
          "height": 573
        },
        "outputId": "71ceb732-9166-470d-fa69-57a8555b0cf3"
      },
      "source": [
        "plot_curve(history, epochs)"
      ],
      "execution_count": 32,
      "outputs": [
        {
          "output_type": "display_data",
          "data": {
            "image/png": "[encoded data removed]",
            "text/plain": [
              "<Figure size 432x288 with 1 Axes>"
            ]
          },
          "metadata": {
            "tags": []
          }
        },
        {
          "output_type": "display_data",
          "data": {
            "image/png": "[encoded data removed]",
            "text/plain": [
              "<Figure size 432x288 with 1 Axes>"
            ]
          },
          "metadata": {
            "tags": []
          }
        }
      ]
    },
    {
      "cell_type": "code",
      "metadata": {
        "id": "6QqXwEblzwm0",
        "colab_type": "code",
        "colab": {}
      },
      "source": [
        ""
      ],
      "execution_count": 0,
      "outputs": []
    }
  ]
}